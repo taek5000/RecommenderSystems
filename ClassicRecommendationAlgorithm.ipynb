{
 "cells": [
  {
   "cell_type": "markdown",
   "id": "24417a82",
   "metadata": {},
   "source": [
    "# Classic_Recommendation_Models"
   ]
  },
  {
   "cell_type": "code",
   "execution_count": 1,
   "id": "4bbe1bde",
   "metadata": {
    "scrolled": true
   },
   "outputs": [
    {
     "name": "stderr",
     "output_type": "stream",
     "text": [
      "C:\\Users\\taek5\\AppData\\Local\\Temp\\ipykernel_12824\\3587479969.py:6: FutureWarning: The error_bad_lines argument has been deprecated and will be removed in a future version. Use on_bad_lines in the future.\n",
      "\n",
      "\n",
      "  books = pd.read_csv(data_path+'BX-Books-comma-sep.csv', sep=',', error_bad_lines=False, warn_bad_lines=False, encoding=\"latin-1\", index_col = 0)\n",
      "C:\\Users\\taek5\\AppData\\Local\\Temp\\ipykernel_12824\\3587479969.py:6: FutureWarning: The warn_bad_lines argument has been deprecated and will be removed in a future version. Use on_bad_lines in the future.\n",
      "\n",
      "\n",
      "  books = pd.read_csv(data_path+'BX-Books-comma-sep.csv', sep=',', error_bad_lines=False, warn_bad_lines=False, encoding=\"latin-1\", index_col = 0)\n",
      "C:\\Users\\taek5\\AppData\\Local\\Temp\\ipykernel_12824\\3587479969.py:6: DtypeWarning: Columns (4) have mixed types. Specify dtype option on import or set low_memory=False.\n",
      "  books = pd.read_csv(data_path+'BX-Books-comma-sep.csv', sep=',', error_bad_lines=False, warn_bad_lines=False, encoding=\"latin-1\", index_col = 0)\n",
      "C:\\Users\\taek5\\AppData\\Local\\Temp\\ipykernel_12824\\3587479969.py:7: FutureWarning: The error_bad_lines argument has been deprecated and will be removed in a future version. Use on_bad_lines in the future.\n",
      "\n",
      "\n",
      "  users = pd.read_csv(data_path+'BX-Users-comma-sep.csv', sep=',', error_bad_lines=False, warn_bad_lines=False,encoding=\"latin-1\", index_col = 0)\n",
      "C:\\Users\\taek5\\AppData\\Local\\Temp\\ipykernel_12824\\3587479969.py:7: FutureWarning: The warn_bad_lines argument has been deprecated and will be removed in a future version. Use on_bad_lines in the future.\n",
      "\n",
      "\n",
      "  users = pd.read_csv(data_path+'BX-Users-comma-sep.csv', sep=',', error_bad_lines=False, warn_bad_lines=False,encoding=\"latin-1\", index_col = 0)\n",
      "C:\\Users\\taek5\\AppData\\Local\\Temp\\ipykernel_12824\\3587479969.py:8: FutureWarning: The error_bad_lines argument has been deprecated and will be removed in a future version. Use on_bad_lines in the future.\n",
      "\n",
      "\n",
      "  ratings = pd.read_csv(data_path+'BX-Book-Ratings-comma-sep.csv', sep=',', error_bad_lines=False, warn_bad_lines=False, encoding=\"latin-1\", index_col = 0)\n",
      "C:\\Users\\taek5\\AppData\\Local\\Temp\\ipykernel_12824\\3587479969.py:8: FutureWarning: The warn_bad_lines argument has been deprecated and will be removed in a future version. Use on_bad_lines in the future.\n",
      "\n",
      "\n",
      "  ratings = pd.read_csv(data_path+'BX-Book-Ratings-comma-sep.csv', sep=',', error_bad_lines=False, warn_bad_lines=False, encoding=\"latin-1\", index_col = 0)\n"
     ]
    }
   ],
   "source": [
    "# Load the data\n",
    "import pandas as pd\n",
    "\n",
    "data_path = 'C:/Users/taek5/Desktop/TG/RecommenderSystems/data/book_crossing/'\n",
    "\n",
    "books = pd.read_csv(data_path+'BX-Books-comma-sep.csv', sep=',', error_bad_lines=False, warn_bad_lines=False, encoding=\"latin-1\", index_col = 0)\n",
    "users = pd.read_csv(data_path+'BX-Users-comma-sep.csv', sep=',', error_bad_lines=False, warn_bad_lines=False,encoding=\"latin-1\", index_col = 0)\n",
    "ratings = pd.read_csv(data_path+'BX-Book-Ratings-comma-sep.csv', sep=',', error_bad_lines=False, warn_bad_lines=False, encoding=\"latin-1\", index_col = 0)"
   ]
  },
  {
   "cell_type": "code",
   "execution_count": 2,
   "id": "9fdb0b47",
   "metadata": {},
   "outputs": [],
   "source": [
    "# Filter books with at least min_book_ratings ratings\n",
    "min_book_ratings = 10\n",
    "book_ratings_counts = ratings['Book-Title'].value_counts()\n",
    "filtered_books = book_ratings_counts[book_ratings_counts >= min_book_ratings].index\n",
    "ratings = ratings[ratings['Book-Title'].isin(filtered_books)]"
   ]
  },
  {
   "cell_type": "code",
   "execution_count": 3,
   "id": "84e5fb54",
   "metadata": {},
   "outputs": [
    {
     "data": {
      "text/html": [
       "<div>\n",
       "<style scoped>\n",
       "    .dataframe tbody tr th:only-of-type {\n",
       "        vertical-align: middle;\n",
       "    }\n",
       "\n",
       "    .dataframe tbody tr th {\n",
       "        vertical-align: top;\n",
       "    }\n",
       "\n",
       "    .dataframe thead th {\n",
       "        text-align: right;\n",
       "    }\n",
       "</style>\n",
       "<table border=\"1\" class=\"dataframe\">\n",
       "  <thead>\n",
       "    <tr style=\"text-align: right;\">\n",
       "      <th></th>\n",
       "      <th>User-ID</th>\n",
       "      <th>Book-Rating</th>\n",
       "      <th>Book-Title</th>\n",
       "    </tr>\n",
       "  </thead>\n",
       "  <tbody>\n",
       "    <tr>\n",
       "      <th>1</th>\n",
       "      <td>2313</td>\n",
       "      <td>5</td>\n",
       "      <td>Flesh Tones: A Novel</td>\n",
       "    </tr>\n",
       "    <tr>\n",
       "      <th>2</th>\n",
       "      <td>6543</td>\n",
       "      <td>0</td>\n",
       "      <td>Flesh Tones: A Novel</td>\n",
       "    </tr>\n",
       "    <tr>\n",
       "      <th>3</th>\n",
       "      <td>8680</td>\n",
       "      <td>5</td>\n",
       "      <td>Flesh Tones: A Novel</td>\n",
       "    </tr>\n",
       "    <tr>\n",
       "      <th>4</th>\n",
       "      <td>10314</td>\n",
       "      <td>9</td>\n",
       "      <td>Flesh Tones: A Novel</td>\n",
       "    </tr>\n",
       "    <tr>\n",
       "      <th>5</th>\n",
       "      <td>23768</td>\n",
       "      <td>0</td>\n",
       "      <td>Flesh Tones: A Novel</td>\n",
       "    </tr>\n",
       "    <tr>\n",
       "      <th>...</th>\n",
       "      <td>...</td>\n",
       "      <td>...</td>\n",
       "      <td>...</td>\n",
       "    </tr>\n",
       "    <tr>\n",
       "      <th>1031125</th>\n",
       "      <td>276688</td>\n",
       "      <td>0</td>\n",
       "      <td>Coyote Waits</td>\n",
       "    </tr>\n",
       "    <tr>\n",
       "      <th>1031126</th>\n",
       "      <td>276688</td>\n",
       "      <td>0</td>\n",
       "      <td>Sacred Clowns</td>\n",
       "    </tr>\n",
       "    <tr>\n",
       "      <th>1031128</th>\n",
       "      <td>276688</td>\n",
       "      <td>0</td>\n",
       "      <td>Mrs. Pollifax and the Second Thief</td>\n",
       "    </tr>\n",
       "    <tr>\n",
       "      <th>1031131</th>\n",
       "      <td>276688</td>\n",
       "      <td>0</td>\n",
       "      <td>Mostly Harmless</td>\n",
       "    </tr>\n",
       "    <tr>\n",
       "      <th>1031132</th>\n",
       "      <td>276688</td>\n",
       "      <td>7</td>\n",
       "      <td>Gray Matter</td>\n",
       "    </tr>\n",
       "  </tbody>\n",
       "</table>\n",
       "<p>491897 rows × 3 columns</p>\n",
       "</div>"
      ],
      "text/plain": [
       "         User-ID  Book-Rating                          Book-Title\n",
       "1           2313            5                Flesh Tones: A Novel\n",
       "2           6543            0                Flesh Tones: A Novel\n",
       "3           8680            5                Flesh Tones: A Novel\n",
       "4          10314            9                Flesh Tones: A Novel\n",
       "5          23768            0                Flesh Tones: A Novel\n",
       "...          ...          ...                                 ...\n",
       "1031125   276688            0                        Coyote Waits\n",
       "1031126   276688            0                       Sacred Clowns\n",
       "1031128   276688            0  Mrs. Pollifax and the Second Thief\n",
       "1031131   276688            0                     Mostly Harmless\n",
       "1031132   276688            7                         Gray Matter\n",
       "\n",
       "[491897 rows x 3 columns]"
      ]
     },
     "execution_count": 3,
     "metadata": {},
     "output_type": "execute_result"
    }
   ],
   "source": [
    "# Filter users with at least min_user_ratings books\n",
    "min_user_ratings = 5\n",
    "user_rating_counts = ratings['User-ID'].value_counts()\n",
    "filtered_users = user_rating_counts[user_rating_counts >= min_user_ratings].index\n",
    "ratings = ratings[ratings['User-ID'].isin(filtered_users)]\n",
    "ratings"
   ]
  },
  {
   "cell_type": "code",
   "execution_count": 4,
   "id": "f4f5dc74",
   "metadata": {},
   "outputs": [],
   "source": [
    "# Create the user-item matrix\n",
    "user_item_matrix = ratings.pivot_table(index = 'User-ID', columns = 'Book-Title', values = 'Book-Rating').fillna(0)"
   ]
  },
  {
   "cell_type": "code",
   "execution_count": 13,
   "id": "3d8af7d4",
   "metadata": {},
   "outputs": [],
   "source": [
    "# Split user indices into train and test sets\n",
    "import numpy as np\n",
    "from sklearn.model_selection import train_test_split\n",
    "\n",
    "user_indices = np.arange(user_item_matrix.shape[0])\n",
    "train_user_indices, test_user_indices = train_test_split(user_indices, test_size = 0.001, random_state = 42)"
   ]
  },
  {
   "cell_type": "code",
   "execution_count": 15,
   "id": "80caf29a",
   "metadata": {},
   "outputs": [
    {
     "name": "stdout",
     "output_type": "stream",
     "text": [
      "Random Score-Based Recommendations:\n",
      "1. Das Versprechen. Requiem auf den Kriminalroman.\n",
      "2. The Delaney Woman\n",
      "3. In God We Trust: All Others Pay Cash\n",
      "4. Secrets of the Night\n",
      "5. Venus Envy\n",
      "6. The Bishop and the Three Kings: A Blackie Ryan Mystery (Blackie Ryan Novels)\n",
      "7. The Discworld Mapp\n",
      "8. The Red Scream\n",
      "9. Q\n",
      "10. Hullabaloo in the Guava Orchard\n"
     ]
    }
   ],
   "source": [
    "def random_recommendation(ratings, n = 10):\n",
    "    unique_books = ratings['Book-Title'].unique()\n",
    "    random_books = np.random.choice(unique_books, size = n, replace = False)\n",
    "    return random_books\n",
    "\n",
    "random_books = random_recommendation(ratings, n = 10)\n",
    "print('Random Score-Based Recommendations:')\n",
    "for i,book in enumerate(random_books, 1):\n",
    "    print(f\"{i}. {book}\")"
   ]
  },
  {
   "cell_type": "code",
   "execution_count": 16,
   "id": "81779ffb",
   "metadata": {},
   "outputs": [
    {
     "name": "stdout",
     "output_type": "stream",
     "text": [
      "\n",
      "Popularity-Based Recommendations:\n",
      "1. Wild Animus\n",
      "2. The Lovely Bones: A Novel\n",
      "3. The Da Vinci Code\n",
      "4. The Nanny Diaries: A Novel\n",
      "5. Bridget Jones's Diary\n",
      "6. A Painted House\n",
      "7. The Secret Life of Bees\n",
      "8. Divine Secrets of the Ya-Ya Sisterhood: A Novel\n",
      "9. Angels &amp; Demons\n",
      "10. Life of Pi\n"
     ]
    }
   ],
   "source": [
    "def popularity_recommendation(ratings, n = 10):\n",
    "    popular_books = ratings.groupby('Book-Title')['Book-Title'].count().sort_values(ascending = False).head(n).index\n",
    "    return popular_books\n",
    "\n",
    "popular_books = popularity_recommendation(ratings, n = 10)\n",
    "print(\"\\nPopularity-Based Recommendations:\")\n",
    "for i, book in enumerate(popular_books, 1):\n",
    "    print(f\"{i}. {book}\")"
   ]
  }
 ],
 "metadata": {
  "kernelspec": {
   "display_name": "Python 3 (ipykernel)",
   "language": "python",
   "name": "python3"
  },
  "language_info": {
   "codemirror_mode": {
    "name": "ipython",
    "version": 3
   },
   "file_extension": ".py",
   "mimetype": "text/x-python",
   "name": "python",
   "nbconvert_exporter": "python",
   "pygments_lexer": "ipython3",
   "version": "3.11.4"
  }
 },
 "nbformat": 4,
 "nbformat_minor": 5
}
